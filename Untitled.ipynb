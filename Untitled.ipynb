{
 "cells": [
  {
   "cell_type": "markdown",
   "metadata": {},
   "source": [
    "# The road map to building a regression model using scikit-learn.\n",
    "\n",
    "The main goal of data scientist is to extract knowledge from data. In order to extract knowledge from data and implement machine learning algorithms it is necessary to get to know the data to understand the problem. Getting to know the data is termed Exploratpry Data Analysis (EDA). EDA allows data scientist to fix errors within the dataset and at the same time understand the relation and importance of every attribute within the dataset. The road map to a machine learning algorithm is summarized as:\n",
    "\n",
    "* Feature Engineering\n",
    "* Model Validation\n",
    "* Model Testing\n",
    "\n",
    "This notebook explains the data science principles applied on the road map when building regression models. The road map to this notebook is summarized as:\n",
    "\n",
    "* Feature Engineering/Exploratory Data Analysis\n",
    "* Linear Regression\n",
    "* Multi-variate Regression\n",
    "* Machine Learning for Regression\n",
    "* How to evaluate a good model\n",
    "\n"
   ]
  },
  {
   "cell_type": "markdown",
   "metadata": {},
   "source": [
    "## Feature Engineering/Exploratory Data Analysis\n",
    "\n",
    "Feature Engineering is the process of fixing the dataset in order to optimize the outcome of machine learning algorithms. EDA utilises descriptive statistiscs to understand bow attributes associaite to one another. To understand the data, it is necessary to correct for any missing values or incorrect values."
   ]
  },
  {
   "cell_type": "code",
   "execution_count": null,
   "metadata": {},
   "outputs": [],
   "source": [
    "# data handlers\n",
    "import numpy as np\n",
    "import pandas as pd\n",
    "\n",
    "\n",
    "# data visualization stuffs\n",
    "import matplotlib.pyplot as plt\n",
    "import seaborn as sns \n",
    "\n",
    "\n",
    "# ML algorithms\n",
    "from sklearn.linear_model import LinearRegression, Lasso, Ridge\n",
    "from sklearn.svm import SVR"
   ]
  }
 ],
 "metadata": {
  "kernelspec": {
   "display_name": "Python 3",
   "language": "python",
   "name": "python3"
  },
  "language_info": {
   "codemirror_mode": {
    "name": "ipython",
    "version": 3
   },
   "file_extension": ".py",
   "mimetype": "text/x-python",
   "name": "python",
   "nbconvert_exporter": "python",
   "pygments_lexer": "ipython3",
   "version": "3.7.4"
  }
 },
 "nbformat": 4,
 "nbformat_minor": 4
}
